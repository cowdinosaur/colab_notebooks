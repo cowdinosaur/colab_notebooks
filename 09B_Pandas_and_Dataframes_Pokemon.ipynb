{
  "nbformat": 4,
  "nbformat_minor": 0,
  "metadata": {
    "kernelspec": {
      "display_name": "Python 3",
      "language": "python",
      "name": "python3"
    },
    "language_info": {
      "codemirror_mode": {
        "name": "ipython",
        "version": 3
      },
      "file_extension": ".py",
      "mimetype": "text/x-python",
      "name": "python",
      "nbconvert_exporter": "python",
      "pygments_lexer": "ipython3",
      "version": "3.8.5"
    },
    "colab": {
      "provenance": [],
      "collapsed_sections": [],
      "include_colab_link": true
    }
  },
  "cells": [
    {
      "cell_type": "markdown",
      "metadata": {
        "id": "view-in-github",
        "colab_type": "text"
      },
      "source": [
        "<a href=\"https://colab.research.google.com/github/cowdinosaur/colab_notebooks/blob/main/09B_Pandas_and_Dataframes_Pokemon.ipynb\" target=\"_parent\"><img src=\"https://colab.research.google.com/assets/colab-badge.svg\" alt=\"Open In Colab\"/></a>"
      ]
    },
    {
      "cell_type": "markdown",
      "metadata": {
        "id": "PRXvDZ89M5ci"
      },
      "source": [
        "# Introduction to Pandas and Dataframes\n",
        "\n",
        "**Pandas** is a popular Python library, used for statistical analysis. We operate on **dataframes**, which you can think of as \"Excel sheets as variables in Python\". "
      ]
    },
    {
      "cell_type": "code",
      "source": [],
      "metadata": {
        "id": "_WiUj5ILyZaS"
      },
      "execution_count": null,
      "outputs": []
    },
    {
      "cell_type": "code",
      "metadata": {
        "id": "nDBAwSObM5co"
      },
      "source": [],
      "execution_count": null,
      "outputs": []
    },
    {
      "cell_type": "markdown",
      "metadata": {
        "id": "5JkYMYHmM5cr"
      },
      "source": [
        "## Importing data\n",
        "\n",
        "Now, let's import some data! We do this using the `read_csv` function within the `pd` library, so we call it with `pd.read_csv`. We tell it one thing: the location of the file to be read. \n",
        "\n",
        "Let's get started by importing a CSV file, which are plain-text versions of data values! Some sample CSV files can be found in this server's `Resources` folder. To use them, you'll need to go to the homepage, download the CSV files from the `Resources` folder, and **re-upload to the same folder as this notebook**. \n",
        "\n",
        "Once you're ready, run this line to store all that data in to a single variable:"
      ]
    },
    {
      "cell_type": "code",
      "metadata": {
        "id": "5yX3yM9RM5ct"
      },
      "source": [],
      "execution_count": null,
      "outputs": []
    },
    {
      "cell_type": "code",
      "metadata": {
        "id": "9QbENmawPL07"
      },
      "source": [],
      "execution_count": null,
      "outputs": []
    },
    {
      "cell_type": "markdown",
      "metadata": {
        "id": "kjfmcCDzM5c2"
      },
      "source": [
        "Printing is a bit unwieldy because of all the data. To read just a bit of info from the beginning, which lets you check if everything imported correctly, use `.head()`:"
      ]
    },
    {
      "cell_type": "code",
      "metadata": {
        "id": "spZtmc6sPRp_"
      },
      "source": [],
      "execution_count": null,
      "outputs": []
    },
    {
      "cell_type": "markdown",
      "metadata": {
        "id": "a3P0UIsEM5c4"
      },
      "source": [
        "Notice that the column headings are each of the columns in the CSV file, and the row headings are just numbers. This is OK, but not quite right--we want each row heading to be the pokemon name. In pandas terminology, we want to **set the pokemon name column as the index**. To do this, we re-import, and specify an `index_col`:"
      ]
    },
    {
      "cell_type": "code",
      "metadata": {
        "id": "hf__Y5y7M5c5"
      },
      "source": [],
      "execution_count": null,
      "outputs": []
    },
    {
      "cell_type": "code",
      "metadata": {
        "id": "BkYeT_b7Od-s"
      },
      "source": [],
      "execution_count": null,
      "outputs": []
    },
    {
      "cell_type": "markdown",
      "metadata": {
        "id": "SyyqTYsoM5c8"
      },
      "source": [
        "Now, the first two rows look a bit weird, but that's pandas' way of telling us that \"name\" is an index column. You can have multiple index columns, but that's beyond the scope of this class."
      ]
    },
    {
      "cell_type": "markdown",
      "metadata": {
        "id": "gReOyuftM5c9"
      },
      "source": [
        "## Some DataFrame operations\n",
        "\n",
        "Some useful functions you can do with DataFrames below. Try them out, and see what they do!"
      ]
    },
    {
      "cell_type": "code",
      "metadata": {
        "id": "xjKXLl5OPZMN"
      },
      "source": [],
      "execution_count": null,
      "outputs": []
    },
    {
      "cell_type": "code",
      "metadata": {
        "id": "kOfy3ChXPcol"
      },
      "source": [],
      "execution_count": null,
      "outputs": []
    },
    {
      "cell_type": "code",
      "metadata": {
        "id": "NP9nBqSfPcwo"
      },
      "source": [],
      "execution_count": null,
      "outputs": []
    },
    {
      "cell_type": "code",
      "metadata": {
        "id": "PaZyF4EnPc31"
      },
      "source": [],
      "execution_count": null,
      "outputs": []
    },
    {
      "cell_type": "code",
      "metadata": {
        "id": "UkpUq99nPdAc"
      },
      "source": [],
      "execution_count": null,
      "outputs": []
    },
    {
      "cell_type": "code",
      "metadata": {
        "id": "dL_Wr6QMPdGu"
      },
      "source": [],
      "execution_count": null,
      "outputs": []
    },
    {
      "cell_type": "code",
      "metadata": {
        "id": "3H0Q0BsPPdMm"
      },
      "source": [],
      "execution_count": null,
      "outputs": []
    },
    {
      "cell_type": "markdown",
      "metadata": {
        "id": "J6-zKq0vM5dc"
      },
      "source": [
        "### <font color=\"red\">Exercise 1: Import and check\n",
        "\n",
        "New pokedex data was just released! Import the data from the new CSV (from Apr 2021) and check how many rows of data it has."
      ]
    },
    {
      "cell_type": "code",
      "metadata": {
        "id": "DbA9pRe6PgFw"
      },
      "source": [],
      "execution_count": null,
      "outputs": []
    },
    {
      "cell_type": "code",
      "metadata": {
        "id": "2y5XWfAZPl8j"
      },
      "source": [],
      "execution_count": null,
      "outputs": []
    },
    {
      "cell_type": "markdown",
      "metadata": {
        "id": "PpAvxdQ1M5df"
      },
      "source": [
        "<hr>"
      ]
    },
    {
      "cell_type": "markdown",
      "metadata": {
        "id": "Fqdamh9zM5df"
      },
      "source": [
        "## Reading and filtering data in DataFrames\n",
        "\n",
        "There are many, many ways of accessing data in DataFrames. Here are a few ways--you can read up on other ways at the [Pandas DataFrame documentation](https://pandas.pydata.org/pandas-docs/stable/generated/pandas.DataFrame.html) page. It's worth clicking over just to see the variety of functions you can call to handle DataFrames!\n",
        "\n",
        "Here, though, we'll start with accessing information the way you'd expect, by row and column:"
      ]
    },
    {
      "cell_type": "code",
      "metadata": {
        "id": "lBSDcToWM5dm"
      },
      "source": [],
      "execution_count": null,
      "outputs": []
    },
    {
      "cell_type": "code",
      "metadata": {
        "id": "6YbzUShdM5dn"
      },
      "source": [],
      "execution_count": null,
      "outputs": []
    },
    {
      "cell_type": "code",
      "metadata": {
        "id": "xa50YOHtM5dn"
      },
      "source": [],
      "execution_count": null,
      "outputs": []
    },
    {
      "cell_type": "code",
      "metadata": {
        "id": "eETlmyBaM5do"
      },
      "source": [],
      "execution_count": null,
      "outputs": []
    },
    {
      "cell_type": "code",
      "metadata": {
        "id": "TVQjKJOnM5dp"
      },
      "source": [],
      "execution_count": null,
      "outputs": []
    },
    {
      "cell_type": "code",
      "metadata": {
        "scrolled": true,
        "id": "PlmVI4c-M5dp"
      },
      "source": [],
      "execution_count": null,
      "outputs": []
    },
    {
      "cell_type": "markdown",
      "metadata": {
        "id": "C1OYc_MNM5dq"
      },
      "source": [
        "### <font color=\"red\">Exercise 2: Get data</font>\n",
        "\n",
        "Import the necessary CSV file, and set up a DataFrame for the base stats 'hp', 'attack', 'speed' for each of the Pokemon 'Bulbasaur', 'Charmander' and 'Squirtle'. Your result should look like this:\n",
        "\n",
        "| name | hp | attack | speed |\n",
        "|---|:---:|:---:|:---:|\n",
        "| Venosaur | 45 | 49 | 45 |\n",
        "| Charizard | 39 | 52 | 65 |\n",
        "| Blastsoise | 44 | 48 | 43 |"
      ]
    },
    {
      "cell_type": "code",
      "metadata": {
        "id": "Px_08pYlZHZY"
      },
      "source": [],
      "execution_count": null,
      "outputs": []
    },
    {
      "cell_type": "markdown",
      "metadata": {
        "id": "0uacxLGKM5dt"
      },
      "source": [
        "<hr>"
      ]
    },
    {
      "cell_type": "markdown",
      "metadata": {
        "id": "e0-ho8eDM5du"
      },
      "source": [
        "## Filtering data\n",
        "\n",
        "Here's one of the most powerful features of DataFrames--being able to quickly work with large chunks of data. If you had to do this with for loops, it'd be a bit of pain to filter everything out item by item, not to mention having to reconstruct your lists one by one."
      ]
    },
    {
      "cell_type": "code",
      "metadata": {
        "id": "f-VhnCUZYY1U"
      },
      "source": [],
      "execution_count": null,
      "outputs": []
    },
    {
      "cell_type": "code",
      "metadata": {
        "id": "y5hEU5clYZwY"
      },
      "source": [],
      "execution_count": null,
      "outputs": []
    },
    {
      "cell_type": "code",
      "metadata": {
        "id": "KUXIFTFqYcDC"
      },
      "source": [],
      "execution_count": null,
      "outputs": []
    },
    {
      "cell_type": "code",
      "metadata": {
        "id": "k7vzu4eVYcJq"
      },
      "source": [],
      "execution_count": null,
      "outputs": []
    },
    {
      "cell_type": "markdown",
      "metadata": {
        "id": "U92IVNmSM5dz"
      },
      "source": [
        "## More Filtering\n",
        "\n",
        "Take a look at what's being done, and try to figure it out, particularly when it comes to the two-condition criteria!"
      ]
    },
    {
      "cell_type": "code",
      "metadata": {
        "id": "Ss6fvtdjM5d0",
        "outputId": "2372fa07-f2d9-480f-f4c8-78b45f8a4bdb"
      },
      "source": [
        "# Can you figure out what's being done in the below code? \n",
        "\n",
        "pokeAll = pd.read_csv(\"pokedex_(Update_2021.04).csv\", index_col = \"name\")\n",
        "criteria = (pokeAll[\"generation\"] == 1) & (pokeAll[\"total_points\"] > 100)\n",
        "pokeAll[\"all_defense\"] = pokeAll[\"defense\"] + pokeAll[\"sp_defense\"]\n",
        "pokeAll[criteria][[\"defense\",\"sp_defense\", \"all_defense\"]]"
      ],
      "execution_count": null,
      "outputs": [
        {
          "output_type": "execute_result",
          "data": {
            "text/html": [
              "<div>\n",
              "<style scoped>\n",
              "    .dataframe tbody tr th:only-of-type {\n",
              "        vertical-align: middle;\n",
              "    }\n",
              "\n",
              "    .dataframe tbody tr th {\n",
              "        vertical-align: top;\n",
              "    }\n",
              "\n",
              "    .dataframe thead th {\n",
              "        text-align: right;\n",
              "    }\n",
              "</style>\n",
              "<table border=\"1\" class=\"dataframe\">\n",
              "  <thead>\n",
              "    <tr style=\"text-align: right;\">\n",
              "      <th></th>\n",
              "      <th>defense</th>\n",
              "      <th>sp_defense</th>\n",
              "      <th>all_defense</th>\n",
              "    </tr>\n",
              "    <tr>\n",
              "      <th>name</th>\n",
              "      <th></th>\n",
              "      <th></th>\n",
              "      <th></th>\n",
              "    </tr>\n",
              "  </thead>\n",
              "  <tbody>\n",
              "    <tr>\n",
              "      <th>Bulbasaur</th>\n",
              "      <td>49</td>\n",
              "      <td>65</td>\n",
              "      <td>114</td>\n",
              "    </tr>\n",
              "    <tr>\n",
              "      <th>Ivysaur</th>\n",
              "      <td>63</td>\n",
              "      <td>80</td>\n",
              "      <td>143</td>\n",
              "    </tr>\n",
              "    <tr>\n",
              "      <th>Venusaur</th>\n",
              "      <td>83</td>\n",
              "      <td>100</td>\n",
              "      <td>183</td>\n",
              "    </tr>\n",
              "    <tr>\n",
              "      <th>Mega Venusaur</th>\n",
              "      <td>123</td>\n",
              "      <td>120</td>\n",
              "      <td>243</td>\n",
              "    </tr>\n",
              "    <tr>\n",
              "      <th>Charmander</th>\n",
              "      <td>43</td>\n",
              "      <td>50</td>\n",
              "      <td>93</td>\n",
              "    </tr>\n",
              "    <tr>\n",
              "      <th>...</th>\n",
              "      <td>...</td>\n",
              "      <td>...</td>\n",
              "      <td>...</td>\n",
              "    </tr>\n",
              "    <tr>\n",
              "      <th>Dragonite</th>\n",
              "      <td>95</td>\n",
              "      <td>100</td>\n",
              "      <td>195</td>\n",
              "    </tr>\n",
              "    <tr>\n",
              "      <th>Mewtwo</th>\n",
              "      <td>90</td>\n",
              "      <td>90</td>\n",
              "      <td>180</td>\n",
              "    </tr>\n",
              "    <tr>\n",
              "      <th>Mega Mewtwo X</th>\n",
              "      <td>100</td>\n",
              "      <td>100</td>\n",
              "      <td>200</td>\n",
              "    </tr>\n",
              "    <tr>\n",
              "      <th>Mega Mewtwo Y</th>\n",
              "      <td>70</td>\n",
              "      <td>120</td>\n",
              "      <td>190</td>\n",
              "    </tr>\n",
              "    <tr>\n",
              "      <th>Mew</th>\n",
              "      <td>100</td>\n",
              "      <td>100</td>\n",
              "      <td>200</td>\n",
              "    </tr>\n",
              "  </tbody>\n",
              "</table>\n",
              "<p>192 rows × 3 columns</p>\n",
              "</div>"
            ],
            "text/plain": [
              "               defense  sp_defense  all_defense\n",
              "name                                           \n",
              "Bulbasaur           49          65          114\n",
              "Ivysaur             63          80          143\n",
              "Venusaur            83         100          183\n",
              "Mega Venusaur      123         120          243\n",
              "Charmander          43          50           93\n",
              "...                ...         ...          ...\n",
              "Dragonite           95         100          195\n",
              "Mewtwo              90          90          180\n",
              "Mega Mewtwo X      100         100          200\n",
              "Mega Mewtwo Y       70         120          190\n",
              "Mew                100         100          200\n",
              "\n",
              "[192 rows x 3 columns]"
            ]
          },
          "metadata": {
            "tags": []
          },
          "execution_count": 116
        }
      ]
    },
    {
      "cell_type": "code",
      "metadata": {
        "id": "V6ZVZbKhM5d1"
      },
      "source": [],
      "execution_count": null,
      "outputs": []
    },
    {
      "cell_type": "markdown",
      "metadata": {
        "id": "sjEPP_tPM5d2"
      },
      "source": [
        "### <font color=\"red\">Exercise 3: Pikachu data and filtering\n",
        "\n",
        "* Read data from the pokedex_(Update_2021.04) file\n",
        "* Find the speed of Raichu\n",
        "* Find all the Pokemon in Generation 1 whose speed is greater than Raichu\n",
        "    \n",
        "There should be 17 Pokemon.\n",
        "\n",
        "Bonus challenge: Filter out all \"Mega\" pokemon from the results."
      ]
    },
    {
      "cell_type": "code",
      "metadata": {
        "id": "43cNb5XWYfqt"
      },
      "source": [],
      "execution_count": null,
      "outputs": []
    },
    {
      "cell_type": "markdown",
      "metadata": {
        "id": "LqvXAXfUM5d4"
      },
      "source": [
        "### <font color=\"red\">Exercise 4: What does this do? \n",
        "\n",
        "What do each of the lines in this chunk of code do? Run it, find out, and explain to someone sitting next to you."
      ]
    },
    {
      "cell_type": "code",
      "metadata": {
        "id": "c-BkVXjiM5d5"
      },
      "source": [
        "first = pd.read_csv('pokedex_(Update_2021.04).csv', index_col = 'name')\n",
        "second = first[first['generation'] == 1]\n",
        "third = second.drop('Pikachu')\n",
        "fourth = third.drop('generation', axis = 1)\n",
        "fourth.to_csv('result.csv')"
      ],
      "execution_count": null,
      "outputs": []
    },
    {
      "cell_type": "markdown",
      "metadata": {
        "id": "vlRKTMNcM5d6"
      },
      "source": [
        "## Inserting data\n",
        "\n",
        "Inserting column data into your DataFrames is straightforward. Just add it in:"
      ]
    },
    {
      "cell_type": "code",
      "metadata": {
        "id": "z8F4l5wWYkNE"
      },
      "source": [],
      "execution_count": null,
      "outputs": []
    },
    {
      "cell_type": "code",
      "metadata": {
        "id": "yoSLGB0wYkR3"
      },
      "source": [],
      "execution_count": null,
      "outputs": []
    },
    {
      "cell_type": "code",
      "metadata": {
        "id": "lZKooghTYkW8"
      },
      "source": [],
      "execution_count": null,
      "outputs": []
    },
    {
      "cell_type": "code",
      "metadata": {
        "id": "wEu0D8WsYkbG"
      },
      "source": [],
      "execution_count": null,
      "outputs": []
    },
    {
      "cell_type": "code",
      "metadata": {
        "id": "l0R7emGlYkf2"
      },
      "source": [],
      "execution_count": null,
      "outputs": []
    },
    {
      "cell_type": "code",
      "metadata": {
        "id": "c88qXqr0Ykjr"
      },
      "source": [],
      "execution_count": null,
      "outputs": []
    },
    {
      "cell_type": "code",
      "metadata": {
        "id": "biM-Iz8vYkna"
      },
      "source": [],
      "execution_count": null,
      "outputs": []
    },
    {
      "cell_type": "code",
      "metadata": {
        "id": "85IdqeKSYkrF"
      },
      "source": [],
      "execution_count": null,
      "outputs": []
    },
    {
      "cell_type": "code",
      "metadata": {
        "id": "Lo035S_IYku-"
      },
      "source": [],
      "execution_count": null,
      "outputs": []
    },
    {
      "cell_type": "code",
      "metadata": {
        "id": "nAup2zW4Ykz6"
      },
      "source": [],
      "execution_count": null,
      "outputs": []
    },
    {
      "cell_type": "markdown",
      "metadata": {
        "id": "m0ygrbqyM5eG"
      },
      "source": [
        "### <font color=\"red\">Exercise 5: Final Pokemon data analysis</font>\n",
        "\n",
        "Import the latest Pokedex version. Write an expression to display each of the following:\n",
        "\n",
        "* The Japanese names of all pokemon\n",
        "* All data for the pokemon Charizard\n",
        "* Total points for all pokemon in Generation 1.\n",
        "* Total points for all Electric pokemon for all generations. (Hint: Type 1: Electric and Type 2: Electric both count)\n",
        "* Total points for all pokemon after Generation 3 with greater than 500 total points.\n",
        "* Attack points for all pokemon in Generation 4 as a multiple of special attack (sp_attack) for that pokemon. Show a DataFrame with 'attack', 'sp_attack', and \"attack vs sp_attack\", for example:\n",
        "\n",
        "| name | attack | sp_attack | attack vs sp_attack |\n",
        "|---|:---:|:---:|:---:|\n",
        "| Turtwig | 68 | 45 | 1.51 |\n",
        "| Grotle | 89 | 55 | 1.62 |\n",
        "| Torterra | 109 | 75 | 1.45 |\n",
        "| Chimchar | 58 | 58 | 1.00 |\n",
        "| ... | ... | ... | ... |"
      ]
    },
    {
      "cell_type": "code",
      "metadata": {
        "id": "N6W0XLbeYlkr"
      },
      "source": [],
      "execution_count": null,
      "outputs": []
    },
    {
      "cell_type": "code",
      "metadata": {
        "id": "5urWGvyIYnsK"
      },
      "source": [],
      "execution_count": null,
      "outputs": []
    },
    {
      "cell_type": "code",
      "metadata": {
        "id": "CQAWd4F1Ynvs"
      },
      "source": [],
      "execution_count": null,
      "outputs": []
    },
    {
      "cell_type": "code",
      "metadata": {
        "id": "pODi_ltIYnzV"
      },
      "source": [],
      "execution_count": null,
      "outputs": []
    },
    {
      "cell_type": "code",
      "metadata": {
        "id": "FWwm5LKoYn3D"
      },
      "source": [],
      "execution_count": null,
      "outputs": []
    },
    {
      "cell_type": "code",
      "metadata": {
        "id": "0BjnZAVvYn60"
      },
      "source": [],
      "execution_count": null,
      "outputs": []
    }
  ]
}